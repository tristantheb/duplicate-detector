{
 "cells": [
  {
   "cell_type": "code",
   "execution_count": 8,
   "metadata": {},
   "outputs": [
    {
     "name": "stdout",
     "output_type": "stream",
     "text": [
      "Rapport généré avec succès.\n"
     ]
    }
   ],
   "source": [
    "import pandas as pd\n",
    "import os\n",
    "\n",
    "input_folder = r\"input\"\n",
    "output_folder = r\"output\"\n",
    "\n",
    "if not os.path.exists(output_folder):\n",
    "    os.makedirs(output_folder)\n",
    "\n",
    "# Vérifier que le dossier existe\n",
    "if not os.path.exists(input_folder):\n",
    "    print(\"Le dossier n'existe pas.\")\n",
    "    open('error.txt', 'w').write(\"Le dossier `\"+input_folder+\"` n'existe pas.\")\n",
    "    input(\"Appuyez sur une touche pour quitter...\")\n",
    "\n",
    "# Récupérer les fichiers CSV dans le dossier\n",
    "files = os.listdir(input_folder)\n",
    "\n",
    "# Lire les fichiers CSV dans le dossier et les concaténer\n",
    "df = pd.concat([pd.read_csv(input_folder + \"/\" + file) for file in files if file.endswith(\".csv\")])\n",
    "\n",
    "# Detect duplicated lines from the first column of the input file (we don't now how the columns are named)\n",
    "duplicated_lines = df[df.duplicated(subset=df.columns[0], keep=False)]\n",
    "\n",
    "with open(output_folder + \"/rapport.txt\", \"w\") as f:\n",
    "    f.write(\"Rapport de détection de doublons\\n\")\n",
    "    f.write(\"Nombre de lignes : \" + str(len(df)) + \"\\n\")\n",
    "    f.write(\"--------------------------\\n\")\n",
    "    f.write(\"Liste des doublons :\\n\")\n",
    "    for index, row in duplicated_lines.iterrows():\n",
    "        f.write(str(index) + \" : \" + str(row.values[0]) + \"\\n\")\n",
    "        \n",
    "print(\"Rapport généré avec succès.\")\n",
    "input(\"Appuyez sur une touche pour quitter...\")\n"
   ]
  }
 ],
 "metadata": {
  "kernelspec": {
   "display_name": "_tristantheb-duplicate-detector-Lsa8U5eY-py3.12",
   "language": "python",
   "name": "python3"
  },
  "language_info": {
   "codemirror_mode": {
    "name": "ipython",
    "version": 3
   },
   "file_extension": ".py",
   "mimetype": "text/x-python",
   "name": "python",
   "nbconvert_exporter": "python",
   "pygments_lexer": "ipython3",
   "version": "3.12.3"
  }
 },
 "nbformat": 4,
 "nbformat_minor": 2
}
